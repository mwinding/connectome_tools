{
 "cells": [
  {
   "cell_type": "markdown",
   "metadata": {},
   "source": [
    "**Log in to CATMAID instance**\n",
    "<br>\n",
    "After importing pymaid and contools, you must log in to your CATMAID instance. You will need to provide your username, password, token, and the url of the CATMAID instance.\n",
    "Here, these data are stored in pymaid_creds.py and imported into the script. Make sure to add this filename to a .gitignore file to prevent sharing your credentials on github."
   ]
  },
  {
   "cell_type": "code",
   "execution_count": null,
   "metadata": {},
   "outputs": [],
   "source": [
    "\n",
    "import pymaid\n",
    "import contools\n",
    "\n",
    "from data_settings import data_date, pairs_path # path information for example dataset\n",
    "from pymaid_creds import url, name, password, token\n",
    "rm = pymaid.CatmaidInstance(url, token, name, password)"
   ]
  },
  {
   "cell_type": "markdown",
   "metadata": {},
   "source": [
    "**Signal Cascade Algorithm**\n",
    "<br>\n",
    "Signal cascades simulate multihop signal propagation through a network.\n",
    "This propagation is probabilistic, but determined by the edge weight (synaptic strength in biological neural networks).\n",
    "\n",
    "$P(propagation) = 1-(1-p)^n$ , where $n = \\sum_{}^{}$ upstream actived synapses\n",
    "<br>\n",
    "\n",
    "These propagation calculations are run for each neuron in the network iteratively per hop until the signal has run through the whole network.\n",
    "Note that when run with $simultaneous=True$, the synaptic strength from multiple upstream neurons is combined to calculate the chance that a downstream neuron is activated.\n",
    "\n",
    "**Parameter Setup**\n",
    "- *name*: a string which is the name of the cascade, for logging purposes only\n",
    "\n",
    "+ *source_skids*: an array [] of CATMAID skeleton IDs, which indicate the starting point(s) of the cascade\n",
    "\n",
    "- *stop_skids*: an array [] of CATMAID skeleton IDs, which indicate the end point(s) of the cascade. When signal reaches an end point, that portion of the cascade stops\n",
    "\n",
    "+ *adj*: pandas DataFrame of the adjacency matrix of the network, with skeleton IDs for row and column names\n",
    "\n",
    "- *p*: probability of propagating signal per individual synapse, suggested value = 0.05\n",
    "\n",
    "+ *max_hops*: the max number of hops the cascade will run\n",
    "\n",
    "- *n_init*: the number of iterations. because cascades are probabilistic, multiple cascades will be run and their results summed\n",
    "\n",
    "+ *simultaneous*: True or False. Determines whether neurons that are simultaneously active can sum their outputs to more effectively activate their shared downstream partners\n"
   ]
  },
  {
   "cell_type": "code",
   "execution_count": null,
   "metadata": {},
   "outputs": [],
   "source": [
    "name = 'CN-4 cascade' \n",
    "source_skids = pymaid.get_skids_by_annotation('CN-4')\n",
    "stop_skids = pymaid.get_skids_by_annotation('mw dVNC')\n",
    "adj = contools.Promat.pull_adj(type_adj='ad', date=data_date, subgraph=['mw brain paper clustered neurons', 'mw brain accessory neurons']) # can also load and use a CSV instead\n",
    "p = 0.05\n",
    "max_hops = 10\n",
    "n_init = 100\n",
    "simultaneous = True"
   ]
  },
  {
   "cell_type": "markdown",
   "metadata": {},
   "source": [
    "**Running the Cascade**\n",
    "<br>\n",
    "Assemble the previously defined variables and input into the appropriate function contools.Cascade_Analyzer.run_single_cascade()"
   ]
  },
  {
   "cell_type": "code",
   "execution_count": 7,
   "metadata": {},
   "outputs": [
    {
     "name": "stderr",
     "output_type": "stream",
     "text": [
      "100%|██████████| 100/100 [01:03<00:00,  1.56it/s]\n"
     ]
    }
   ],
   "source": [
    "\n",
    "cascade = contools.Cascade_Analyzer.run_single_cascade(\n",
    "    name = name,\n",
    "    source_skids = source_skids,\n",
    "    stop_skids = stop_skids,\n",
    "    adj = adj,\n",
    "    p = p,\n",
    "    max_hops = max_hops,\n",
    "    n_init = n_init,\n",
    "    simultaneous = simultaneous\n",
    ")"
   ]
  },
  {
   "cell_type": "markdown",
   "metadata": {},
   "source": [
    "**Sorting Data and Plotting**\n",
    "<br>\n",
    "The cascade is output as a Cascade_Analyzer() object. The raw data is stored in cascade.skid_hit_hist, which is a pandas Dataframe where rows = skeleton IDs and columns = number of hops. 0 hops indicates the user-defined activated neurons. The data itself indicates number of visits across all cascade iterations, such than a neuron with 25 visits was visited in 25/100 cascades.\n",
    "\n",
    "The data can be sorted using pandas pd.sort_values() and displayed in its raw format. This sorted data is then displayed with a simple heatmap, where rows indicate individual neurons and columns indicate hops from cascade origin. The color scale represents number of visits per hop."
   ]
  },
  {
   "cell_type": "code",
   "execution_count": 12,
   "metadata": {},
   "outputs": [
    {
     "data": {
      "text/html": [
       "<div>\n",
       "<style scoped>\n",
       "    .dataframe tbody tr th:only-of-type {\n",
       "        vertical-align: middle;\n",
       "    }\n",
       "\n",
       "    .dataframe tbody tr th {\n",
       "        vertical-align: top;\n",
       "    }\n",
       "\n",
       "    .dataframe thead th {\n",
       "        text-align: right;\n",
       "    }\n",
       "</style>\n",
       "<table border=\"1\" class=\"dataframe\">\n",
       "  <thead>\n",
       "    <tr style=\"text-align: right;\">\n",
       "      <th></th>\n",
       "      <th>0</th>\n",
       "      <th>1</th>\n",
       "      <th>2</th>\n",
       "      <th>3</th>\n",
       "      <th>4</th>\n",
       "      <th>5</th>\n",
       "      <th>6</th>\n",
       "      <th>7</th>\n",
       "      <th>8</th>\n",
       "      <th>9</th>\n",
       "      <th>10</th>\n",
       "    </tr>\n",
       "  </thead>\n",
       "  <tbody>\n",
       "    <tr>\n",
       "      <th>10543751</th>\n",
       "      <td>100.0</td>\n",
       "      <td>0.0</td>\n",
       "      <td>0.0</td>\n",
       "      <td>0.0</td>\n",
       "      <td>0.0</td>\n",
       "      <td>0.0</td>\n",
       "      <td>0.0</td>\n",
       "      <td>0.0</td>\n",
       "      <td>0.0</td>\n",
       "      <td>0.0</td>\n",
       "      <td>0.0</td>\n",
       "    </tr>\n",
       "    <tr>\n",
       "      <th>11464638</th>\n",
       "      <td>100.0</td>\n",
       "      <td>0.0</td>\n",
       "      <td>0.0</td>\n",
       "      <td>0.0</td>\n",
       "      <td>0.0</td>\n",
       "      <td>0.0</td>\n",
       "      <td>0.0</td>\n",
       "      <td>0.0</td>\n",
       "      <td>0.0</td>\n",
       "      <td>0.0</td>\n",
       "      <td>0.0</td>\n",
       "    </tr>\n",
       "    <tr>\n",
       "      <th>14083681</th>\n",
       "      <td>0.0</td>\n",
       "      <td>55.0</td>\n",
       "      <td>6.0</td>\n",
       "      <td>8.0</td>\n",
       "      <td>21.0</td>\n",
       "      <td>10.0</td>\n",
       "      <td>0.0</td>\n",
       "      <td>0.0</td>\n",
       "      <td>0.0</td>\n",
       "      <td>0.0</td>\n",
       "      <td>0.0</td>\n",
       "    </tr>\n",
       "    <tr>\n",
       "      <th>11889676</th>\n",
       "      <td>0.0</td>\n",
       "      <td>53.0</td>\n",
       "      <td>3.0</td>\n",
       "      <td>20.0</td>\n",
       "      <td>20.0</td>\n",
       "      <td>4.0</td>\n",
       "      <td>0.0</td>\n",
       "      <td>0.0</td>\n",
       "      <td>0.0</td>\n",
       "      <td>0.0</td>\n",
       "      <td>0.0</td>\n",
       "    </tr>\n",
       "    <tr>\n",
       "      <th>4022539</th>\n",
       "      <td>0.0</td>\n",
       "      <td>50.0</td>\n",
       "      <td>10.0</td>\n",
       "      <td>28.0</td>\n",
       "      <td>12.0</td>\n",
       "      <td>0.0</td>\n",
       "      <td>0.0</td>\n",
       "      <td>0.0</td>\n",
       "      <td>0.0</td>\n",
       "      <td>0.0</td>\n",
       "      <td>0.0</td>\n",
       "    </tr>\n",
       "    <tr>\n",
       "      <th>...</th>\n",
       "      <td>...</td>\n",
       "      <td>...</td>\n",
       "      <td>...</td>\n",
       "      <td>...</td>\n",
       "      <td>...</td>\n",
       "      <td>...</td>\n",
       "      <td>...</td>\n",
       "      <td>...</td>\n",
       "      <td>...</td>\n",
       "      <td>...</td>\n",
       "      <td>...</td>\n",
       "    </tr>\n",
       "    <tr>\n",
       "      <th>19470184</th>\n",
       "      <td>0.0</td>\n",
       "      <td>0.0</td>\n",
       "      <td>0.0</td>\n",
       "      <td>0.0</td>\n",
       "      <td>0.0</td>\n",
       "      <td>0.0</td>\n",
       "      <td>0.0</td>\n",
       "      <td>0.0</td>\n",
       "      <td>0.0</td>\n",
       "      <td>0.0</td>\n",
       "      <td>0.0</td>\n",
       "    </tr>\n",
       "    <tr>\n",
       "      <th>19718010</th>\n",
       "      <td>0.0</td>\n",
       "      <td>0.0</td>\n",
       "      <td>0.0</td>\n",
       "      <td>0.0</td>\n",
       "      <td>0.0</td>\n",
       "      <td>0.0</td>\n",
       "      <td>0.0</td>\n",
       "      <td>0.0</td>\n",
       "      <td>0.0</td>\n",
       "      <td>0.0</td>\n",
       "      <td>0.0</td>\n",
       "    </tr>\n",
       "    <tr>\n",
       "      <th>20316708</th>\n",
       "      <td>0.0</td>\n",
       "      <td>0.0</td>\n",
       "      <td>0.0</td>\n",
       "      <td>0.0</td>\n",
       "      <td>0.0</td>\n",
       "      <td>0.0</td>\n",
       "      <td>0.0</td>\n",
       "      <td>0.0</td>\n",
       "      <td>0.0</td>\n",
       "      <td>0.0</td>\n",
       "      <td>0.0</td>\n",
       "    </tr>\n",
       "    <tr>\n",
       "      <th>21250110</th>\n",
       "      <td>0.0</td>\n",
       "      <td>0.0</td>\n",
       "      <td>0.0</td>\n",
       "      <td>0.0</td>\n",
       "      <td>0.0</td>\n",
       "      <td>0.0</td>\n",
       "      <td>0.0</td>\n",
       "      <td>0.0</td>\n",
       "      <td>0.0</td>\n",
       "      <td>0.0</td>\n",
       "      <td>0.0</td>\n",
       "    </tr>\n",
       "    <tr>\n",
       "      <th>21590978</th>\n",
       "      <td>0.0</td>\n",
       "      <td>0.0</td>\n",
       "      <td>0.0</td>\n",
       "      <td>0.0</td>\n",
       "      <td>0.0</td>\n",
       "      <td>0.0</td>\n",
       "      <td>0.0</td>\n",
       "      <td>0.0</td>\n",
       "      <td>0.0</td>\n",
       "      <td>0.0</td>\n",
       "      <td>0.0</td>\n",
       "    </tr>\n",
       "  </tbody>\n",
       "</table>\n",
       "<p>3010 rows × 11 columns</p>\n",
       "</div>"
      ],
      "text/plain": [
       "             0     1     2     3     4     5    6    7    8    9    10\n",
       "10543751  100.0   0.0   0.0   0.0   0.0   0.0  0.0  0.0  0.0  0.0  0.0\n",
       "11464638  100.0   0.0   0.0   0.0   0.0   0.0  0.0  0.0  0.0  0.0  0.0\n",
       "14083681    0.0  55.0   6.0   8.0  21.0  10.0  0.0  0.0  0.0  0.0  0.0\n",
       "11889676    0.0  53.0   3.0  20.0  20.0   4.0  0.0  0.0  0.0  0.0  0.0\n",
       "4022539     0.0  50.0  10.0  28.0  12.0   0.0  0.0  0.0  0.0  0.0  0.0\n",
       "...         ...   ...   ...   ...   ...   ...  ...  ...  ...  ...  ...\n",
       "19470184    0.0   0.0   0.0   0.0   0.0   0.0  0.0  0.0  0.0  0.0  0.0\n",
       "19718010    0.0   0.0   0.0   0.0   0.0   0.0  0.0  0.0  0.0  0.0  0.0\n",
       "20316708    0.0   0.0   0.0   0.0   0.0   0.0  0.0  0.0  0.0  0.0  0.0\n",
       "21250110    0.0   0.0   0.0   0.0   0.0   0.0  0.0  0.0  0.0  0.0  0.0\n",
       "21590978    0.0   0.0   0.0   0.0   0.0   0.0  0.0  0.0  0.0  0.0  0.0\n",
       "\n",
       "[3010 rows x 11 columns]"
      ]
     },
     "execution_count": 12,
     "metadata": {},
     "output_type": "execute_result"
    }
   ],
   "source": [
    "data = cascade.skid_hit_hist\n",
    "data_sorted = data.sort_values(by = list(data.columns), ascending=False)\n",
    "data_sorted"
   ]
  },
  {
   "cell_type": "code",
   "execution_count": 13,
   "metadata": {},
   "outputs": [
    {
     "data": {
      "text/plain": [
       "<AxesSubplot:>"
      ]
     },
     "execution_count": 13,
     "metadata": {},
     "output_type": "execute_result"
    },
    {
     "data": {
      "image/png": "[encoded data removed]",
      "text/plain": [
       "<Figure size 432x288 with 2 Axes>"
      ]
     },
     "metadata": {
      "needs_background": "light"
     },
     "output_type": "display_data"
    }
   ],
   "source": [
    "import seaborn as sns\n",
    "\n",
    "sns.heatmap(data_sorted)"
   ]
  }
 ],
 "metadata": {
  "interpreter": {
   "hash": "e3d16f5e1fe5629d249128eb53820aa0800420930e536b2f27fa9bbb33aff6d9"
  },
  "kernelspec": {
   "display_name": "Python 3.9.7 64-bit ('larva_learning_env': conda)",
   "language": "python",
   "name": "python3"
  },
  "language_info": {
   "codemirror_mode": {
    "name": "ipython",
    "version": 3
   },
   "file_extension": ".py",
   "mimetype": "text/x-python",
   "name": "python",
   "nbconvert_exporter": "python",
   "pygments_lexer": "ipython3",
   "version": "3.9.7"
  },
  "orig_nbformat": 4
 },
 "nbformat": 4,
 "nbformat_minor": 2
}
