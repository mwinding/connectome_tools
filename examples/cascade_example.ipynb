{
 "cells": [
  {
   "cell_type": "markdown",
   "metadata": {},
   "source": [
    "**Log in to CATMAID instance**\\\n",
    "<br>\n",
    "After importing pymaid and contools, you must log in to your CATMAID instance. You will need to provide your username, password, token, and the url of the CATMAID instance.\n",
    "Here, these data are stored in pymaid_creds.py and imported into the script. Make sure to add this filename to a .gitignore file to prevent sharing your credentials on github."
   ]
  },
  {
   "cell_type": "code",
   "execution_count": 3,
   "metadata": {},
   "outputs": [
    {
     "name": "stderr",
     "output_type": "stream",
     "text": [
      "INFO  : Global CATMAID instance set. Caching is ON. (pymaid)\n"
     ]
    }
   ],
   "source": [
    "\n",
    "import pymaid\n",
    "import contools\n",
    "\n",
    "from pymaid_creds import url, name, password, token\n",
    "rm = pymaid.CatmaidInstance(url, token, name, password)\n"
   ]
  },
  {
   "cell_type": "markdown",
   "metadata": {},
   "source": [
    "**Signal Cascade Algorithm**\\\n",
    "<br>\n",
    "Signal cascades simulate multihop signal propagation through a network.\n",
    "This propagation is probabilistic, but determined by the edge weight (synaptic strength in biological neural networks).\n",
    "\n",
    "$P(propagation) = 1-(1-p)^n$ , where $n = \\sum_{}^{}$ upstream actived synapses\n",
    "<br>\n",
    "\n",
    "These propagation calculations are run for each neuron in the network iteratively per hop until the signal has run through the whole network.\n",
    "Note that when run with $simultaneous=True$, the synaptic strength from multiple upstream neurons is combined to calculate the chance that a downstream neuron is activated.\n",
    "\n",
    "**Parameter Setup**\n",
    "- *name*:           \n",
    "        a string which is the name of the cascade, for logging purposes only\n",
    "\n",
    "+ *source_skids*:   \n",
    "        an array [] of CATMAID skeleton IDs, which indicate the starting point(s) of the cascade\n",
    "\n",
    "- *stop_skids*:     \n",
    "        an array [] of CATMAID skeleton IDs, which indicate the end point(s) of the cascade. When signal reaches an end point, that portion of the cascade stops\n",
    "\n",
    "+ *adj*:            \n",
    "        pandas DataFrame of the adjacency matrix of the network, with skeleton IDs for row and column names\n",
    "\n",
    "- *p*:              \n",
    "        probability of propagating signal per individual synapse, suggested value = 0.05\n",
    "\n",
    "+ *max_hops*:       \n",
    "        the max number of hops the cascade will run\n",
    "\n",
    "- *n_init*:         \n",
    "        the number of iterations. because cascades are probabilistic, multiple cascades will be run and their results summed\n",
    "\n",
    "+ *simultaneous*:   \n",
    "        whether neurons that are simultaneously active can sum their outputs to more effectively activate their shared downstream partners\n"
   ]
  },
  {
   "cell_type": "code",
   "execution_count": null,
   "metadata": {},
   "outputs": [],
   "source": [
    "name = 'CN-4 cascade' \n",
    "source_skids = pymaid.get_skids_by_annotation('CN-4') \n",
    "stop_skids = pymaid.get_skids_by_annotation('mw dVNC') \n",
    "adj = contools.Promat.pull_adj('ad', 'brain and accessory') # can also load and use a CSV instead\n",
    "p = 0.05\n",
    "max_hops = 10\n",
    "n_init = 100\n",
    "simultaneous = True\n"
   ]
  },
  {
   "cell_type": "markdown",
   "metadata": {},
   "source": [
    "**Running the Cascade**\\\n",
    "<br>\n",
    "Assemble the previously defined variables and input into the appropriate function contools.Cascade_Analyzer.run_single_cascade()"
   ]
  },
  {
   "cell_type": "code",
   "execution_count": null,
   "metadata": {},
   "outputs": [],
   "source": [
    "\n",
    "cascade = contools.Cascade_Analyzer.run_single_cascade(\n",
    "    name = name,\n",
    "    source_skids = source_skids,\n",
    "    stop_skids = stop_skids,\n",
    "    adj = adj,\n",
    "    p = p,\n",
    "    max_hops = max_hops,\n",
    "    n_init = n_init,\n",
    "    simultaneous = simultaneous\n",
    ")\n",
    "\n",
    "cascade"
   ]
  }
 ],
 "metadata": {
  "interpreter": {
   "hash": "e3d16f5e1fe5629d249128eb53820aa0800420930e536b2f27fa9bbb33aff6d9"
  },
  "kernelspec": {
   "display_name": "Python 3.9.7 64-bit ('larva_learning_env': conda)",
   "language": "python",
   "name": "python3"
  },
  "language_info": {
   "codemirror_mode": {
    "name": "ipython",
    "version": 3
   },
   "file_extension": ".py",
   "mimetype": "text/x-python",
   "name": "python",
   "nbconvert_exporter": "python",
   "pygments_lexer": "ipython3",
   "version": "3.9.7"
  },
  "orig_nbformat": 4
 },
 "nbformat": 4,
 "nbformat_minor": 2
}
