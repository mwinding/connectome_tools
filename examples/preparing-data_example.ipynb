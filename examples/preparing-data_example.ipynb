{
 "cells": [
  {
   "cell_type": "markdown",
   "metadata": {},
   "source": [
    "**Log in to CATMAID instance**\n",
    "<br>\n",
    "After importing pymaid and contools, you must log in to your CATMAID instance. You will need to provide your username, password, token, and the url of the CATMAID instance.\n",
    "Here, these data are stored in pymaid_creds.py and imported into the script. Make sure to add this filename to a .gitignore file to prevent sharing your credentials on github."
   ]
  },
  {
   "cell_type": "code",
   "execution_count": null,
   "metadata": {},
   "outputs": [],
   "source": [
    "import pymaid\n",
    "import contools\n",
    "\n",
    "from pymaid_creds import url, name, password, token\n",
    "rm = pymaid.CatmaidInstance(url, token, name, password)"
   ]
  },
  {
   "cell_type": "markdown",
   "metadata": {},
   "source": [
    "**Splitting Axons and Dendrites to generate axo-dendritic, axo-axonic, dendro-dendritic, and dendro-axonic adjacency matrices**\n",
    "<br>\n",
    "This requires a few different annotations and tags. First, you need the full list of neurons that you wish to split. In the below example, we combine two annotations using pymaid.get_skids_by_annotation(). You must then indicate your split tag (here, \"mw axon split\"), which is a previously generated node that indicates the putative axon initial zone. Everything upstream of this node will be considered dendrite and everything downstream axon.\\\n",
    "<br>\n",
    "Next, you can indicate neurons with complex splits that use \"axon start\" and \"axon end\" tags to indicate where individual axon(s) start and end. Everything that is not an axon is considered a dendrite. Finally, indicate skeleton ids for neurons that have no split tags and shouldn't be split (not_split_skids).\\\n",
    "<br>\n",
    "By running generate_adjs.adj_split_axons_dendrites(), you will generate and save CSVs for a-d, a-a, d-d, and d-a adjacency matrices in 'data/adj/...'"
   ]
  },
  {
   "cell_type": "code",
   "execution_count": null,
   "metadata": {},
   "outputs": [],
   "source": [
    "\n",
    "all_neurons = pymaid.get_skids_by_annotation(['mw brain paper clustered neurons', 'mw brain accessory neurons'])\n",
    "split_tag = 'mw axon split'\n",
    "special_split_tags = ['mw axon start', 'mw axon end']\n",
    "not_split_skids = pymaid.get_skids_by_annotation(['mw unsplittable', 'mw partially differentiated', 'mw brain incomplete'])\n",
    "\n",
    "generate_adjs.adj_split_axons_dendrites(all_neurons, split_tag, special_split_tags, not_split_skids)"
   ]
  },
  {
   "cell_type": "markdown",
   "metadata": {},
   "source": [
    "**Generating Filtered Edge List**\n",
    "<br>\n",
    "This code chunk will generate a edge list that is filtered based on a pair-wise threshold. This can be a synaptic threshold or fraction input threshold (meaning $\\frac{synapses_{num}}{synapses_{total}-on-dendrite}$ or $\\frac{synapses_{num}}{synapses_{total}-on-axon}$). You can choose between these using fraction_input=False (synaptic threshold) or fraction_input=True (fraction input threshold). The threshold variable will therefore be either synaptic strength or fraction input, respectively.\n",
    "\n",
    "#insert diagram of pairwise threshold\n",
    "\n",
    "Left-right homologous pairs must be provided as a CSV with columns \"leftid\" and \"rightid\". You must also provide annotations for all left or right hemisphere neurons. "
   ]
  },
  {
   "cell_type": "code",
   "execution_count": null,
   "metadata": {},
   "outputs": [],
   "source": [
    "# generate edge list with raw synapse threshold = 3\n",
    "pairs_path = 'data/pairs/pairs-2021-04-06.csv'\n",
    "pairs = contools.Promat.get_pairs(pairs_path=pairs_path)\n",
    "generate_adjs.edge_thresholds(path='data/adj', threshold=3, left_annot='mw left', right_annot='mw right', pairs = pairs, fraction_input=False, date='2022-02-03')\n",
    "\n",
    "\n",
    "# generate edge list with %input threshold = 0.01\n",
    "pairs_path = 'data/pairs/pairs-2021-04-06.csv'\n",
    "pairs = contools.Promat.get_pairs(pairs_path=pairs_path)\n",
    "generate_adjs.edge_thresholds(path='data/adj', threshold=0.01, left_annot='mw left', right_annot='mw right', pairs = pairs, fraction_input=True, date='2022-02-03')"
   ]
  }
 ],
 "metadata": {
  "language_info": {
   "name": "python"
  },
  "orig_nbformat": 4
 },
 "nbformat": 4,
 "nbformat_minor": 2
}
